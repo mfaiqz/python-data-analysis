{
  "nbformat": 4,
  "nbformat_minor": 0,
  "metadata": {
    "colab": {
      "provenance": []
    },
    "kernelspec": {
      "name": "python3",
      "display_name": "Python 3"
    },
    "language_info": {
      "name": "python"
    }
  },
  "cells": [
    {
      "cell_type": "markdown",
      "source": [
        "#IMPORT GDRIVE"
      ],
      "metadata": {
        "id": "92W_DlxVNc6i"
      }
    },
    {
      "cell_type": "code",
      "execution_count": 1,
      "metadata": {
        "colab": {
          "base_uri": "https://localhost:8080/"
        },
        "id": "LYB80N1IwajL",
        "outputId": "a84ca2b3-ec2b-4285-b873-f127bbcfd027"
      },
      "outputs": [
        {
          "output_type": "stream",
          "name": "stdout",
          "text": [
            "Mounted at /content/gdrive/\n"
          ]
        }
      ],
      "source": [
        "from google.colab import drive\n",
        "drive.mount('/content/gdrive/', force_remount=True)\n"
      ]
    },
    {
      "cell_type": "markdown",
      "source": [
        "#IMPORT DATASET"
      ],
      "metadata": {
        "id": "FpvzR2fDNhxY"
      }
    },
    {
      "cell_type": "code",
      "source": [
        "import pandas as pd\n",
        "import numpy as np\n"
      ],
      "metadata": {
        "id": "8HJn8JYGNhCV"
      },
      "execution_count": 220,
      "outputs": []
    },
    {
      "cell_type": "code",
      "source": [
        "df = pd.read_csv(\"/content/gdrive/MyDrive/PROJECT/HIGHEST-PAID ATHLETES/HIGHEST.csv\")"
      ],
      "metadata": {
        "id": "9vA4_ehzwqfi"
      },
      "execution_count": 172,
      "outputs": []
    },
    {
      "cell_type": "markdown",
      "source": [
        "##DATA REVIEW"
      ],
      "metadata": {
        "id": "bSgvo71JNnzf"
      }
    },
    {
      "cell_type": "code",
      "source": [
        "df.head()"
      ],
      "metadata": {
        "colab": {
          "base_uri": "https://localhost:8080/",
          "height": 206
        },
        "id": "WDZdkv7uxe3P",
        "outputId": "3eb923db-8522-4aba-b54e-c46f1e4e5617"
      },
      "execution_count": 173,
      "outputs": [
        {
          "output_type": "execute_result",
          "data": {
            "text/plain": [
              "   RANK               NAME        SPORT  TOTAL EARNINGS  \\\n",
              "0   1.0      Lionel Messi        Soccer           $130M   \n",
              "1   2.0       LeBron James  Basketball          $121.2M   \n",
              "2   3.0  Cristiano Ronaldo       Soccer           $115M   \n",
              "3   4.0             Neymar       Soccer            $95M   \n",
              "4   5.0      Stephen Curry   Basketball         $92.8M    \n",
              "\n",
              "   ON-THE-FIELD EARNINGS OFF-THE-FIELD EARNINGS  \n",
              "0                   $75M                   $55M  \n",
              "1                 $41.2M                   $80M  \n",
              "2                   $60M                   $55M  \n",
              "3                   $70M                   $25M  \n",
              "4                 $45.8M                   $47M  "
            ],
            "text/html": [
              "\n",
              "  <div id=\"df-94872e1f-50a6-414a-9d4f-a1fbded6daa4\">\n",
              "    <div class=\"colab-df-container\">\n",
              "      <div>\n",
              "<style scoped>\n",
              "    .dataframe tbody tr th:only-of-type {\n",
              "        vertical-align: middle;\n",
              "    }\n",
              "\n",
              "    .dataframe tbody tr th {\n",
              "        vertical-align: top;\n",
              "    }\n",
              "\n",
              "    .dataframe thead th {\n",
              "        text-align: right;\n",
              "    }\n",
              "</style>\n",
              "<table border=\"1\" class=\"dataframe\">\n",
              "  <thead>\n",
              "    <tr style=\"text-align: right;\">\n",
              "      <th></th>\n",
              "      <th>RANK</th>\n",
              "      <th>NAME</th>\n",
              "      <th>SPORT</th>\n",
              "      <th>TOTAL EARNINGS</th>\n",
              "      <th>ON-THE-FIELD EARNINGS</th>\n",
              "      <th>OFF-THE-FIELD EARNINGS</th>\n",
              "    </tr>\n",
              "  </thead>\n",
              "  <tbody>\n",
              "    <tr>\n",
              "      <th>0</th>\n",
              "      <td>1.0</td>\n",
              "      <td>Lionel Messi</td>\n",
              "      <td>Soccer</td>\n",
              "      <td>$130M</td>\n",
              "      <td>$75M</td>\n",
              "      <td>$55M</td>\n",
              "    </tr>\n",
              "    <tr>\n",
              "      <th>1</th>\n",
              "      <td>2.0</td>\n",
              "      <td>LeBron James</td>\n",
              "      <td>Basketball</td>\n",
              "      <td>$121.2M</td>\n",
              "      <td>$41.2M</td>\n",
              "      <td>$80M</td>\n",
              "    </tr>\n",
              "    <tr>\n",
              "      <th>2</th>\n",
              "      <td>3.0</td>\n",
              "      <td>Cristiano Ronaldo</td>\n",
              "      <td>Soccer</td>\n",
              "      <td>$115M</td>\n",
              "      <td>$60M</td>\n",
              "      <td>$55M</td>\n",
              "    </tr>\n",
              "    <tr>\n",
              "      <th>3</th>\n",
              "      <td>4.0</td>\n",
              "      <td>Neymar</td>\n",
              "      <td>Soccer</td>\n",
              "      <td>$95M</td>\n",
              "      <td>$70M</td>\n",
              "      <td>$25M</td>\n",
              "    </tr>\n",
              "    <tr>\n",
              "      <th>4</th>\n",
              "      <td>5.0</td>\n",
              "      <td>Stephen Curry</td>\n",
              "      <td>Basketball</td>\n",
              "      <td>$92.8M</td>\n",
              "      <td>$45.8M</td>\n",
              "      <td>$47M</td>\n",
              "    </tr>\n",
              "  </tbody>\n",
              "</table>\n",
              "</div>\n",
              "      <button class=\"colab-df-convert\" onclick=\"convertToInteractive('df-94872e1f-50a6-414a-9d4f-a1fbded6daa4')\"\n",
              "              title=\"Convert this dataframe to an interactive table.\"\n",
              "              style=\"display:none;\">\n",
              "        \n",
              "  <svg xmlns=\"http://www.w3.org/2000/svg\" height=\"24px\"viewBox=\"0 0 24 24\"\n",
              "       width=\"24px\">\n",
              "    <path d=\"M0 0h24v24H0V0z\" fill=\"none\"/>\n",
              "    <path d=\"M18.56 5.44l.94 2.06.94-2.06 2.06-.94-2.06-.94-.94-2.06-.94 2.06-2.06.94zm-11 1L8.5 8.5l.94-2.06 2.06-.94-2.06-.94L8.5 2.5l-.94 2.06-2.06.94zm10 10l.94 2.06.94-2.06 2.06-.94-2.06-.94-.94-2.06-.94 2.06-2.06.94z\"/><path d=\"M17.41 7.96l-1.37-1.37c-.4-.4-.92-.59-1.43-.59-.52 0-1.04.2-1.43.59L10.3 9.45l-7.72 7.72c-.78.78-.78 2.05 0 2.83L4 21.41c.39.39.9.59 1.41.59.51 0 1.02-.2 1.41-.59l7.78-7.78 2.81-2.81c.8-.78.8-2.07 0-2.86zM5.41 20L4 18.59l7.72-7.72 1.47 1.35L5.41 20z\"/>\n",
              "  </svg>\n",
              "      </button>\n",
              "      \n",
              "  <style>\n",
              "    .colab-df-container {\n",
              "      display:flex;\n",
              "      flex-wrap:wrap;\n",
              "      gap: 12px;\n",
              "    }\n",
              "\n",
              "    .colab-df-convert {\n",
              "      background-color: #E8F0FE;\n",
              "      border: none;\n",
              "      border-radius: 50%;\n",
              "      cursor: pointer;\n",
              "      display: none;\n",
              "      fill: #1967D2;\n",
              "      height: 32px;\n",
              "      padding: 0 0 0 0;\n",
              "      width: 32px;\n",
              "    }\n",
              "\n",
              "    .colab-df-convert:hover {\n",
              "      background-color: #E2EBFA;\n",
              "      box-shadow: 0px 1px 2px rgba(60, 64, 67, 0.3), 0px 1px 3px 1px rgba(60, 64, 67, 0.15);\n",
              "      fill: #174EA6;\n",
              "    }\n",
              "\n",
              "    [theme=dark] .colab-df-convert {\n",
              "      background-color: #3B4455;\n",
              "      fill: #D2E3FC;\n",
              "    }\n",
              "\n",
              "    [theme=dark] .colab-df-convert:hover {\n",
              "      background-color: #434B5C;\n",
              "      box-shadow: 0px 1px 3px 1px rgba(0, 0, 0, 0.15);\n",
              "      filter: drop-shadow(0px 1px 2px rgba(0, 0, 0, 0.3));\n",
              "      fill: #FFFFFF;\n",
              "    }\n",
              "  </style>\n",
              "\n",
              "      <script>\n",
              "        const buttonEl =\n",
              "          document.querySelector('#df-94872e1f-50a6-414a-9d4f-a1fbded6daa4 button.colab-df-convert');\n",
              "        buttonEl.style.display =\n",
              "          google.colab.kernel.accessAllowed ? 'block' : 'none';\n",
              "\n",
              "        async function convertToInteractive(key) {\n",
              "          const element = document.querySelector('#df-94872e1f-50a6-414a-9d4f-a1fbded6daa4');\n",
              "          const dataTable =\n",
              "            await google.colab.kernel.invokeFunction('convertToInteractive',\n",
              "                                                     [key], {});\n",
              "          if (!dataTable) return;\n",
              "\n",
              "          const docLinkHtml = 'Like what you see? Visit the ' +\n",
              "            '<a target=\"_blank\" href=https://colab.research.google.com/notebooks/data_table.ipynb>data table notebook</a>'\n",
              "            + ' to learn more about interactive tables.';\n",
              "          element.innerHTML = '';\n",
              "          dataTable['output_type'] = 'display_data';\n",
              "          await google.colab.output.renderOutput(dataTable, element);\n",
              "          const docLink = document.createElement('div');\n",
              "          docLink.innerHTML = docLinkHtml;\n",
              "          element.appendChild(docLink);\n",
              "        }\n",
              "      </script>\n",
              "    </div>\n",
              "  </div>\n",
              "  "
            ]
          },
          "metadata": {},
          "execution_count": 173
        }
      ]
    },
    {
      "cell_type": "code",
      "source": [
        "df.info()"
      ],
      "metadata": {
        "colab": {
          "base_uri": "https://localhost:8080/"
        },
        "id": "qiJ_sQBUw5sp",
        "outputId": "acca2a9a-4a2a-451b-e684-87a0c60f3f04"
      },
      "execution_count": 174,
      "outputs": [
        {
          "output_type": "stream",
          "name": "stdout",
          "text": [
            "<class 'pandas.core.frame.DataFrame'>\n",
            "RangeIndex: 50 entries, 0 to 49\n",
            "Data columns (total 6 columns):\n",
            " #   Column                  Non-Null Count  Dtype  \n",
            "---  ------                  --------------  -----  \n",
            " 0   RANK                    50 non-null     float64\n",
            " 1   NAME                    50 non-null     object \n",
            " 2    SPORT                  50 non-null     object \n",
            " 3    TOTAL EARNINGS         50 non-null     object \n",
            " 4    ON-THE-FIELD EARNINGS  50 non-null     object \n",
            " 5   OFF-THE-FIELD EARNINGS  50 non-null     object \n",
            "dtypes: float64(1), object(5)\n",
            "memory usage: 2.5+ KB\n"
          ]
        }
      ]
    },
    {
      "cell_type": "code",
      "source": [
        "for x in df.columns:\n",
        "  print(x)"
      ],
      "metadata": {
        "colab": {
          "base_uri": "https://localhost:8080/"
        },
        "id": "NmcB2iZN4-ZT",
        "outputId": "4cb23c6a-a676-4da2-ac0a-0c648e7f0441"
      },
      "execution_count": 175,
      "outputs": [
        {
          "output_type": "stream",
          "name": "stdout",
          "text": [
            "RANK\n",
            "NAME\n",
            " SPORT\n",
            " TOTAL EARNINGS\n",
            " ON-THE-FIELD EARNINGS\n",
            "OFF-THE-FIELD EARNINGS\n"
          ]
        }
      ]
    },
    {
      "cell_type": "markdown",
      "source": [
        "#EARNINGS"
      ],
      "metadata": {
        "id": "X44OGlnCN2zU"
      }
    },
    {
      "cell_type": "markdown",
      "source": [
        "Change the earnings columns from string to integer"
      ],
      "metadata": {
        "id": "mO896MrFN7cZ"
      }
    },
    {
      "cell_type": "code",
      "source": [
        "df[\"OFF-THE-FIELD EARNINGS\"][0].split('M')[0].split(\"$\")[1]\n"
      ],
      "metadata": {
        "colab": {
          "base_uri": "https://localhost:8080/",
          "height": 35
        },
        "id": "0U-Hykkfw6dV",
        "outputId": "4991f89e-8ad6-42dc-bc3c-f763983daca3"
      },
      "execution_count": 176,
      "outputs": [
        {
          "output_type": "execute_result",
          "data": {
            "text/plain": [
              "'55'"
            ],
            "application/vnd.google.colaboratory.intrinsic+json": {
              "type": "string"
            }
          },
          "metadata": {},
          "execution_count": 176
        }
      ]
    },
    {
      "cell_type": "code",
      "source": [
        "\"M\" in df[\"OFF-THE-FIELD EARNINGS\"][0]"
      ],
      "metadata": {
        "colab": {
          "base_uri": "https://localhost:8080/"
        },
        "id": "35cJJNic2rw9",
        "outputId": "4a285ef5-57b9-49b6-d5dc-6a93b6c837de"
      },
      "execution_count": 177,
      "outputs": [
        {
          "output_type": "execute_result",
          "data": {
            "text/plain": [
              "True"
            ]
          },
          "metadata": {},
          "execution_count": 177
        }
      ]
    },
    {
      "cell_type": "code",
      "source": [
        "def changetomillion(data_frame,column_name):\n",
        "  for x in range(len(data_frame[column_name])):\n",
        "    text = data_frame[column_name][x]\n",
        "    if \"M\" in text:\n",
        "      text = text.split('M')[0].split(\"$\")[1]\n",
        "      text = float(text)*100000\n",
        "      text = int(text)\n",
        "    elif \"K\" in text:\n",
        "      text = text.split('K')[0].split(\"$\")[1]\n",
        "      text = float(text)*1000\n",
        "    text = int(text)\n",
        "    data_frame[column_name][x]=text\n",
        "\n",
        "def column_select(data_frame):\n",
        "  for x in data_frame.columns:\n",
        "    if \"EARNINGS\" in x:\n",
        "      changetomillion(data_frame,x)"
      ],
      "metadata": {
        "id": "dX4ZQ4l5zkVK"
      },
      "execution_count": 178,
      "outputs": []
    },
    {
      "cell_type": "code",
      "source": [
        "column_select(df)"
      ],
      "metadata": {
        "colab": {
          "base_uri": "https://localhost:8080/"
        },
        "id": "d8AQluUr1FeL",
        "outputId": "3c1feaaa-1742-4a38-c9e5-a1dd881c6a2b"
      },
      "execution_count": 179,
      "outputs": [
        {
          "output_type": "stream",
          "name": "stderr",
          "text": [
            "<ipython-input-178-1db5bdc5d35c>:12: SettingWithCopyWarning: \n",
            "A value is trying to be set on a copy of a slice from a DataFrame\n",
            "\n",
            "See the caveats in the documentation: https://pandas.pydata.org/pandas-docs/stable/user_guide/indexing.html#returning-a-view-versus-a-copy\n",
            "  data_frame[column_name][x]=text\n"
          ]
        }
      ]
    },
    {
      "cell_type": "code",
      "source": [
        "df.head()"
      ],
      "metadata": {
        "colab": {
          "base_uri": "https://localhost:8080/",
          "height": 206
        },
        "id": "2VWOvpbh1Lq0",
        "outputId": "c3c18336-3798-48bc-bd63-956a67f89973"
      },
      "execution_count": 180,
      "outputs": [
        {
          "output_type": "execute_result",
          "data": {
            "text/plain": [
              "   RANK               NAME        SPORT  TOTAL EARNINGS  \\\n",
              "0   1.0      Lionel Messi        Soccer        13000000   \n",
              "1   2.0       LeBron James  Basketball         12120000   \n",
              "2   3.0  Cristiano Ronaldo       Soccer        11500000   \n",
              "3   4.0             Neymar       Soccer         9500000   \n",
              "4   5.0      Stephen Curry   Basketball         9280000   \n",
              "\n",
              "   ON-THE-FIELD EARNINGS OFF-THE-FIELD EARNINGS  \n",
              "0                7500000                5500000  \n",
              "1                4120000                8000000  \n",
              "2                6000000                5500000  \n",
              "3                7000000                2500000  \n",
              "4                4580000                4700000  "
            ],
            "text/html": [
              "\n",
              "  <div id=\"df-3cae95b5-9151-4066-b68d-6f9258ddc478\">\n",
              "    <div class=\"colab-df-container\">\n",
              "      <div>\n",
              "<style scoped>\n",
              "    .dataframe tbody tr th:only-of-type {\n",
              "        vertical-align: middle;\n",
              "    }\n",
              "\n",
              "    .dataframe tbody tr th {\n",
              "        vertical-align: top;\n",
              "    }\n",
              "\n",
              "    .dataframe thead th {\n",
              "        text-align: right;\n",
              "    }\n",
              "</style>\n",
              "<table border=\"1\" class=\"dataframe\">\n",
              "  <thead>\n",
              "    <tr style=\"text-align: right;\">\n",
              "      <th></th>\n",
              "      <th>RANK</th>\n",
              "      <th>NAME</th>\n",
              "      <th>SPORT</th>\n",
              "      <th>TOTAL EARNINGS</th>\n",
              "      <th>ON-THE-FIELD EARNINGS</th>\n",
              "      <th>OFF-THE-FIELD EARNINGS</th>\n",
              "    </tr>\n",
              "  </thead>\n",
              "  <tbody>\n",
              "    <tr>\n",
              "      <th>0</th>\n",
              "      <td>1.0</td>\n",
              "      <td>Lionel Messi</td>\n",
              "      <td>Soccer</td>\n",
              "      <td>13000000</td>\n",
              "      <td>7500000</td>\n",
              "      <td>5500000</td>\n",
              "    </tr>\n",
              "    <tr>\n",
              "      <th>1</th>\n",
              "      <td>2.0</td>\n",
              "      <td>LeBron James</td>\n",
              "      <td>Basketball</td>\n",
              "      <td>12120000</td>\n",
              "      <td>4120000</td>\n",
              "      <td>8000000</td>\n",
              "    </tr>\n",
              "    <tr>\n",
              "      <th>2</th>\n",
              "      <td>3.0</td>\n",
              "      <td>Cristiano Ronaldo</td>\n",
              "      <td>Soccer</td>\n",
              "      <td>11500000</td>\n",
              "      <td>6000000</td>\n",
              "      <td>5500000</td>\n",
              "    </tr>\n",
              "    <tr>\n",
              "      <th>3</th>\n",
              "      <td>4.0</td>\n",
              "      <td>Neymar</td>\n",
              "      <td>Soccer</td>\n",
              "      <td>9500000</td>\n",
              "      <td>7000000</td>\n",
              "      <td>2500000</td>\n",
              "    </tr>\n",
              "    <tr>\n",
              "      <th>4</th>\n",
              "      <td>5.0</td>\n",
              "      <td>Stephen Curry</td>\n",
              "      <td>Basketball</td>\n",
              "      <td>9280000</td>\n",
              "      <td>4580000</td>\n",
              "      <td>4700000</td>\n",
              "    </tr>\n",
              "  </tbody>\n",
              "</table>\n",
              "</div>\n",
              "      <button class=\"colab-df-convert\" onclick=\"convertToInteractive('df-3cae95b5-9151-4066-b68d-6f9258ddc478')\"\n",
              "              title=\"Convert this dataframe to an interactive table.\"\n",
              "              style=\"display:none;\">\n",
              "        \n",
              "  <svg xmlns=\"http://www.w3.org/2000/svg\" height=\"24px\"viewBox=\"0 0 24 24\"\n",
              "       width=\"24px\">\n",
              "    <path d=\"M0 0h24v24H0V0z\" fill=\"none\"/>\n",
              "    <path d=\"M18.56 5.44l.94 2.06.94-2.06 2.06-.94-2.06-.94-.94-2.06-.94 2.06-2.06.94zm-11 1L8.5 8.5l.94-2.06 2.06-.94-2.06-.94L8.5 2.5l-.94 2.06-2.06.94zm10 10l.94 2.06.94-2.06 2.06-.94-2.06-.94-.94-2.06-.94 2.06-2.06.94z\"/><path d=\"M17.41 7.96l-1.37-1.37c-.4-.4-.92-.59-1.43-.59-.52 0-1.04.2-1.43.59L10.3 9.45l-7.72 7.72c-.78.78-.78 2.05 0 2.83L4 21.41c.39.39.9.59 1.41.59.51 0 1.02-.2 1.41-.59l7.78-7.78 2.81-2.81c.8-.78.8-2.07 0-2.86zM5.41 20L4 18.59l7.72-7.72 1.47 1.35L5.41 20z\"/>\n",
              "  </svg>\n",
              "      </button>\n",
              "      \n",
              "  <style>\n",
              "    .colab-df-container {\n",
              "      display:flex;\n",
              "      flex-wrap:wrap;\n",
              "      gap: 12px;\n",
              "    }\n",
              "\n",
              "    .colab-df-convert {\n",
              "      background-color: #E8F0FE;\n",
              "      border: none;\n",
              "      border-radius: 50%;\n",
              "      cursor: pointer;\n",
              "      display: none;\n",
              "      fill: #1967D2;\n",
              "      height: 32px;\n",
              "      padding: 0 0 0 0;\n",
              "      width: 32px;\n",
              "    }\n",
              "\n",
              "    .colab-df-convert:hover {\n",
              "      background-color: #E2EBFA;\n",
              "      box-shadow: 0px 1px 2px rgba(60, 64, 67, 0.3), 0px 1px 3px 1px rgba(60, 64, 67, 0.15);\n",
              "      fill: #174EA6;\n",
              "    }\n",
              "\n",
              "    [theme=dark] .colab-df-convert {\n",
              "      background-color: #3B4455;\n",
              "      fill: #D2E3FC;\n",
              "    }\n",
              "\n",
              "    [theme=dark] .colab-df-convert:hover {\n",
              "      background-color: #434B5C;\n",
              "      box-shadow: 0px 1px 3px 1px rgba(0, 0, 0, 0.15);\n",
              "      filter: drop-shadow(0px 1px 2px rgba(0, 0, 0, 0.3));\n",
              "      fill: #FFFFFF;\n",
              "    }\n",
              "  </style>\n",
              "\n",
              "      <script>\n",
              "        const buttonEl =\n",
              "          document.querySelector('#df-3cae95b5-9151-4066-b68d-6f9258ddc478 button.colab-df-convert');\n",
              "        buttonEl.style.display =\n",
              "          google.colab.kernel.accessAllowed ? 'block' : 'none';\n",
              "\n",
              "        async function convertToInteractive(key) {\n",
              "          const element = document.querySelector('#df-3cae95b5-9151-4066-b68d-6f9258ddc478');\n",
              "          const dataTable =\n",
              "            await google.colab.kernel.invokeFunction('convertToInteractive',\n",
              "                                                     [key], {});\n",
              "          if (!dataTable) return;\n",
              "\n",
              "          const docLinkHtml = 'Like what you see? Visit the ' +\n",
              "            '<a target=\"_blank\" href=https://colab.research.google.com/notebooks/data_table.ipynb>data table notebook</a>'\n",
              "            + ' to learn more about interactive tables.';\n",
              "          element.innerHTML = '';\n",
              "          dataTable['output_type'] = 'display_data';\n",
              "          await google.colab.output.renderOutput(dataTable, element);\n",
              "          const docLink = document.createElement('div');\n",
              "          docLink.innerHTML = docLinkHtml;\n",
              "          element.appendChild(docLink);\n",
              "        }\n",
              "      </script>\n",
              "    </div>\n",
              "  </div>\n",
              "  "
            ]
          },
          "metadata": {},
          "execution_count": 180
        }
      ]
    },
    {
      "cell_type": "markdown",
      "source": [
        "#SPORT COLUMN"
      ],
      "metadata": {
        "id": "CTglJLpFOJWr"
      }
    },
    {
      "cell_type": "markdown",
      "source": [
        "There are some series that have different string but same value"
      ],
      "metadata": {
        "id": "kj2e7FocOOKw"
      }
    },
    {
      "cell_type": "code",
      "source": [
        "df[\" SPORT\"].unique()"
      ],
      "metadata": {
        "colab": {
          "base_uri": "https://localhost:8080/"
        },
        "id": "ZsmLKLhJ41pX",
        "outputId": "7993223a-d859-4e9b-a3d4-ca9d5a5c63e9"
      },
      "execution_count": 181,
      "outputs": [
        {
          "output_type": "execute_result",
          "data": {
            "text/plain": [
              "array(['Soccer', 'Basketball ', 'Basketball', 'Tennis', 'Boxing',\n",
              "       ' Football', 'Football', ' Golf ', 'Auto Racing', ' Basketball',\n",
              "       ' Basketball ', 'Baseball ', ' Golf', 'Mixed Martial Arts',\n",
              "       'Football '], dtype=object)"
            ]
          },
          "metadata": {},
          "execution_count": 181
        }
      ]
    },
    {
      "cell_type": "code",
      "source": [
        "for x in range(len(df[\" SPORT\"])):\n",
        "  text = df[\" SPORT\"][x]\n",
        "  if \"Basketball\" in text:\n",
        "    df[\" SPORT\"][x] = \"Basketball\"\n",
        "  elif \"Football\" in text:\n",
        "    df[\" SPORT\"][x] = \"Football\"\n",
        "  elif \"Golf\" in text:\n",
        "    df[\" SPORT\"][x] = \"Golf\""
      ],
      "metadata": {
        "colab": {
          "base_uri": "https://localhost:8080/"
        },
        "id": "iExSOtNh7Su7",
        "outputId": "6dc471e4-85a9-40b7-9952-8cea0645940e"
      },
      "execution_count": 182,
      "outputs": [
        {
          "output_type": "stream",
          "name": "stderr",
          "text": [
            "<ipython-input-182-e0381256db0c>:4: SettingWithCopyWarning: \n",
            "A value is trying to be set on a copy of a slice from a DataFrame\n",
            "\n",
            "See the caveats in the documentation: https://pandas.pydata.org/pandas-docs/stable/user_guide/indexing.html#returning-a-view-versus-a-copy\n",
            "  df[\" SPORT\"][x] = \"Basketball\"\n",
            "<ipython-input-182-e0381256db0c>:6: SettingWithCopyWarning: \n",
            "A value is trying to be set on a copy of a slice from a DataFrame\n",
            "\n",
            "See the caveats in the documentation: https://pandas.pydata.org/pandas-docs/stable/user_guide/indexing.html#returning-a-view-versus-a-copy\n",
            "  df[\" SPORT\"][x] = \"Football\"\n",
            "<ipython-input-182-e0381256db0c>:8: SettingWithCopyWarning: \n",
            "A value is trying to be set on a copy of a slice from a DataFrame\n",
            "\n",
            "See the caveats in the documentation: https://pandas.pydata.org/pandas-docs/stable/user_guide/indexing.html#returning-a-view-versus-a-copy\n",
            "  df[\" SPORT\"][x] = \"Golf\"\n"
          ]
        }
      ]
    },
    {
      "cell_type": "code",
      "source": [
        "df[\" SPORT\"].unique()"
      ],
      "metadata": {
        "colab": {
          "base_uri": "https://localhost:8080/"
        },
        "id": "1vBp2LYp9Rfi",
        "outputId": "c6a03fe9-f5d8-48d8-a675-0bc9ccd25ed9"
      },
      "execution_count": 183,
      "outputs": [
        {
          "output_type": "execute_result",
          "data": {
            "text/plain": [
              "array(['Soccer', 'Basketball', 'Tennis', 'Boxing', 'Football', 'Golf',\n",
              "       'Auto Racing', 'Baseball ', 'Mixed Martial Arts'], dtype=object)"
            ]
          },
          "metadata": {},
          "execution_count": 183
        }
      ]
    },
    {
      "cell_type": "markdown",
      "source": [
        "#VISUALIZATION"
      ],
      "metadata": {
        "id": "8Vq9Gy7fOamU"
      }
    },
    {
      "cell_type": "markdown",
      "source": [
        "This section visualizes the atheletes earning based on the sport"
      ],
      "metadata": {
        "id": "_AXHi6LdOcwR"
      }
    },
    {
      "cell_type": "code",
      "source": [
        "df_sport = df.drop(columns=['RANK','NAME']).groupby(\" SPORT\") #dataframe groupping based on sport"
      ],
      "metadata": {
        "id": "faKhYzRj9TnV"
      },
      "execution_count": 192,
      "outputs": []
    },
    {
      "cell_type": "code",
      "source": [
        "df_sport_mean = df_sport.mean() #return the mean of columns based on sport\n",
        "df_sport_mean"
      ],
      "metadata": {
        "colab": {
          "base_uri": "https://localhost:8080/",
          "height": 363
        },
        "id": "9cv8JPjG9a9l",
        "outputId": "aff53709-4129-4adc-f1a0-656341b5c255"
      },
      "execution_count": 221,
      "outputs": [
        {
          "output_type": "execute_result",
          "data": {
            "text/plain": [
              "                     TOTAL EARNINGS   ON-THE-FIELD EARNINGS  \\\n",
              " SPORT                                                        \n",
              "Auto Racing            5.650000e+06            5.150000e+06   \n",
              "Baseball               4.950000e+06            3.550000e+06   \n",
              "Basketball             5.993889e+06            3.849444e+06   \n",
              "Boxing                 6.333333e+06            5.833333e+06   \n",
              "Football               5.122857e+06            4.249286e+06   \n",
              "Golf                   5.160000e+06            3.733333e+05   \n",
              "Mixed Martial Arts     4.300000e+06            3.300000e+06   \n",
              "Soccer                 8.560000e+06            5.200000e+06   \n",
              "Tennis                 6.506667e+06            3.733333e+05   \n",
              "\n",
              "                    OFF-THE-FIELD EARNINGS  \n",
              " SPORT                                      \n",
              "Auto Racing                   5.000000e+05  \n",
              "Baseball                      1.400000e+06  \n",
              "Basketball                    2.169444e+06  \n",
              "Boxing                        5.000000e+05  \n",
              "Football                      9.250000e+05  \n",
              "Golf                          4.800000e+06  \n",
              "Mixed Martial Arts            1.000000e+06  \n",
              "Soccer                        3.360000e+06  \n",
              "Tennis                        6.433333e+06  "
            ],
            "text/html": [
              "\n",
              "  <div id=\"df-7b6e6bdf-9c91-4650-a342-8c6b3c87ab26\">\n",
              "    <div class=\"colab-df-container\">\n",
              "      <div>\n",
              "<style scoped>\n",
              "    .dataframe tbody tr th:only-of-type {\n",
              "        vertical-align: middle;\n",
              "    }\n",
              "\n",
              "    .dataframe tbody tr th {\n",
              "        vertical-align: top;\n",
              "    }\n",
              "\n",
              "    .dataframe thead th {\n",
              "        text-align: right;\n",
              "    }\n",
              "</style>\n",
              "<table border=\"1\" class=\"dataframe\">\n",
              "  <thead>\n",
              "    <tr style=\"text-align: right;\">\n",
              "      <th></th>\n",
              "      <th>TOTAL EARNINGS</th>\n",
              "      <th>ON-THE-FIELD EARNINGS</th>\n",
              "      <th>OFF-THE-FIELD EARNINGS</th>\n",
              "    </tr>\n",
              "    <tr>\n",
              "      <th>SPORT</th>\n",
              "      <th></th>\n",
              "      <th></th>\n",
              "      <th></th>\n",
              "    </tr>\n",
              "  </thead>\n",
              "  <tbody>\n",
              "    <tr>\n",
              "      <th>Auto Racing</th>\n",
              "      <td>5.650000e+06</td>\n",
              "      <td>5.150000e+06</td>\n",
              "      <td>5.000000e+05</td>\n",
              "    </tr>\n",
              "    <tr>\n",
              "      <th>Baseball</th>\n",
              "      <td>4.950000e+06</td>\n",
              "      <td>3.550000e+06</td>\n",
              "      <td>1.400000e+06</td>\n",
              "    </tr>\n",
              "    <tr>\n",
              "      <th>Basketball</th>\n",
              "      <td>5.993889e+06</td>\n",
              "      <td>3.849444e+06</td>\n",
              "      <td>2.169444e+06</td>\n",
              "    </tr>\n",
              "    <tr>\n",
              "      <th>Boxing</th>\n",
              "      <td>6.333333e+06</td>\n",
              "      <td>5.833333e+06</td>\n",
              "      <td>5.000000e+05</td>\n",
              "    </tr>\n",
              "    <tr>\n",
              "      <th>Football</th>\n",
              "      <td>5.122857e+06</td>\n",
              "      <td>4.249286e+06</td>\n",
              "      <td>9.250000e+05</td>\n",
              "    </tr>\n",
              "    <tr>\n",
              "      <th>Golf</th>\n",
              "      <td>5.160000e+06</td>\n",
              "      <td>3.733333e+05</td>\n",
              "      <td>4.800000e+06</td>\n",
              "    </tr>\n",
              "    <tr>\n",
              "      <th>Mixed Martial Arts</th>\n",
              "      <td>4.300000e+06</td>\n",
              "      <td>3.300000e+06</td>\n",
              "      <td>1.000000e+06</td>\n",
              "    </tr>\n",
              "    <tr>\n",
              "      <th>Soccer</th>\n",
              "      <td>8.560000e+06</td>\n",
              "      <td>5.200000e+06</td>\n",
              "      <td>3.360000e+06</td>\n",
              "    </tr>\n",
              "    <tr>\n",
              "      <th>Tennis</th>\n",
              "      <td>6.506667e+06</td>\n",
              "      <td>3.733333e+05</td>\n",
              "      <td>6.433333e+06</td>\n",
              "    </tr>\n",
              "  </tbody>\n",
              "</table>\n",
              "</div>\n",
              "      <button class=\"colab-df-convert\" onclick=\"convertToInteractive('df-7b6e6bdf-9c91-4650-a342-8c6b3c87ab26')\"\n",
              "              title=\"Convert this dataframe to an interactive table.\"\n",
              "              style=\"display:none;\">\n",
              "        \n",
              "  <svg xmlns=\"http://www.w3.org/2000/svg\" height=\"24px\"viewBox=\"0 0 24 24\"\n",
              "       width=\"24px\">\n",
              "    <path d=\"M0 0h24v24H0V0z\" fill=\"none\"/>\n",
              "    <path d=\"M18.56 5.44l.94 2.06.94-2.06 2.06-.94-2.06-.94-.94-2.06-.94 2.06-2.06.94zm-11 1L8.5 8.5l.94-2.06 2.06-.94-2.06-.94L8.5 2.5l-.94 2.06-2.06.94zm10 10l.94 2.06.94-2.06 2.06-.94-2.06-.94-.94-2.06-.94 2.06-2.06.94z\"/><path d=\"M17.41 7.96l-1.37-1.37c-.4-.4-.92-.59-1.43-.59-.52 0-1.04.2-1.43.59L10.3 9.45l-7.72 7.72c-.78.78-.78 2.05 0 2.83L4 21.41c.39.39.9.59 1.41.59.51 0 1.02-.2 1.41-.59l7.78-7.78 2.81-2.81c.8-.78.8-2.07 0-2.86zM5.41 20L4 18.59l7.72-7.72 1.47 1.35L5.41 20z\"/>\n",
              "  </svg>\n",
              "      </button>\n",
              "      \n",
              "  <style>\n",
              "    .colab-df-container {\n",
              "      display:flex;\n",
              "      flex-wrap:wrap;\n",
              "      gap: 12px;\n",
              "    }\n",
              "\n",
              "    .colab-df-convert {\n",
              "      background-color: #E8F0FE;\n",
              "      border: none;\n",
              "      border-radius: 50%;\n",
              "      cursor: pointer;\n",
              "      display: none;\n",
              "      fill: #1967D2;\n",
              "      height: 32px;\n",
              "      padding: 0 0 0 0;\n",
              "      width: 32px;\n",
              "    }\n",
              "\n",
              "    .colab-df-convert:hover {\n",
              "      background-color: #E2EBFA;\n",
              "      box-shadow: 0px 1px 2px rgba(60, 64, 67, 0.3), 0px 1px 3px 1px rgba(60, 64, 67, 0.15);\n",
              "      fill: #174EA6;\n",
              "    }\n",
              "\n",
              "    [theme=dark] .colab-df-convert {\n",
              "      background-color: #3B4455;\n",
              "      fill: #D2E3FC;\n",
              "    }\n",
              "\n",
              "    [theme=dark] .colab-df-convert:hover {\n",
              "      background-color: #434B5C;\n",
              "      box-shadow: 0px 1px 3px 1px rgba(0, 0, 0, 0.15);\n",
              "      filter: drop-shadow(0px 1px 2px rgba(0, 0, 0, 0.3));\n",
              "      fill: #FFFFFF;\n",
              "    }\n",
              "  </style>\n",
              "\n",
              "      <script>\n",
              "        const buttonEl =\n",
              "          document.querySelector('#df-7b6e6bdf-9c91-4650-a342-8c6b3c87ab26 button.colab-df-convert');\n",
              "        buttonEl.style.display =\n",
              "          google.colab.kernel.accessAllowed ? 'block' : 'none';\n",
              "\n",
              "        async function convertToInteractive(key) {\n",
              "          const element = document.querySelector('#df-7b6e6bdf-9c91-4650-a342-8c6b3c87ab26');\n",
              "          const dataTable =\n",
              "            await google.colab.kernel.invokeFunction('convertToInteractive',\n",
              "                                                     [key], {});\n",
              "          if (!dataTable) return;\n",
              "\n",
              "          const docLinkHtml = 'Like what you see? Visit the ' +\n",
              "            '<a target=\"_blank\" href=https://colab.research.google.com/notebooks/data_table.ipynb>data table notebook</a>'\n",
              "            + ' to learn more about interactive tables.';\n",
              "          element.innerHTML = '';\n",
              "          dataTable['output_type'] = 'display_data';\n",
              "          await google.colab.output.renderOutput(dataTable, element);\n",
              "          const docLink = document.createElement('div');\n",
              "          docLink.innerHTML = docLinkHtml;\n",
              "          element.appendChild(docLink);\n",
              "        }\n",
              "      </script>\n",
              "    </div>\n",
              "  </div>\n",
              "  "
            ]
          },
          "metadata": {},
          "execution_count": 221
        }
      ]
    },
    {
      "cell_type": "code",
      "source": [
        "sport = [ x for x, df in df_sport] #return list that have same order with groupped dataframe\n",
        "sport"
      ],
      "metadata": {
        "colab": {
          "base_uri": "https://localhost:8080/"
        },
        "id": "RfBwRL_196_w",
        "outputId": "6c73a33b-fcc0-495e-d18a-116765e2016d"
      },
      "execution_count": 194,
      "outputs": [
        {
          "output_type": "execute_result",
          "data": {
            "text/plain": [
              "['Auto Racing',\n",
              " 'Baseball ',\n",
              " 'Basketball',\n",
              " 'Boxing',\n",
              " 'Football',\n",
              " 'Golf',\n",
              " 'Mixed Martial Arts',\n",
              " 'Soccer',\n",
              " 'Tennis']"
            ]
          },
          "metadata": {},
          "execution_count": 194
        }
      ]
    },
    {
      "cell_type": "code",
      "source": [
        "# for x,i in df_sport:\n",
        "  # print(x,i)   #x is index while i is the dataframe"
      ],
      "metadata": {
        "id": "2iJcGzjdAQq1"
      },
      "execution_count": 195,
      "outputs": []
    },
    {
      "cell_type": "markdown",
      "source": [
        "##BARPLOT GENERATION"
      ],
      "metadata": {
        "id": "_DD5rwjMO7m4"
      }
    },
    {
      "cell_type": "code",
      "source": [
        "import matplotlib.pyplot as plt\n",
        "\n",
        "x = sport\n",
        "y = df_sport_mean[\" TOTAL EARNINGS\"]\n",
        "judul = \"\"\"RATA-RATA PENDAPATAN ATLIT TERBANYAK\\nTIAP CABANG OLAHRAGA \\n\"\"\"\n",
        "fig, ax = plt.subplots()\n",
        "\n",
        "ax.bar(x,y, width=1, edgecolor=\"white\", linewidth=0.7)\n",
        "ax.set_xlabel(\"CABANG OLAHRAGA\")\n",
        "ax.set_ylabel(\"TOTAL PENDAPATAN (USD)\")\n",
        "# ax.margins(1,1)\n",
        "plt.xticks(x, rotation=\"vertical\")\n",
        "ax.set_title(judul, fontweight='bold', fontsize=14)\n",
        "\n",
        "\n",
        "\n",
        "plt.show()"
      ],
      "metadata": {
        "colab": {
          "base_uri": "https://localhost:8080/",
          "height": 409
        },
        "id": "cY0haYr-DkGv",
        "outputId": "2e4e237f-08f6-4284-96c9-0544816955ac"
      },
      "execution_count": 219,
      "outputs": [
        {
          "output_type": "display_data",
          "data": {
            "text/plain": [
              "<Figure size 432x288 with 1 Axes>"
            ],
            "image/png": "[encoded data removed]"
          },
          "metadata": {
            "needs_background": "light"
          }
        }
      ]
    }
  ]
}